{
  "cells": [
    {
      "cell_type": "markdown",
      "metadata": {},
      "source": [
        "# NIPALS in Chemometrics\n",
        "\n",
        "## Introduction\n",
        "NIPALS (Non-linear Iterative Partial Least Squares) is an algorithm primarily used in chemometrics for handling large datasets with many variables. It is particularly useful when dealing with multicollinear data, where traditional methods like ordinary least squares regression may fail.\n",
        "\n",
        "## Why Use NIPALS?\n",
        "In chemometrics, datasets often contain highly collinear variables, making it challenging to extract meaningful information. NIPALS helps by reducing the dimensionality of the data while preserving the essential information. This makes it easier to interpret the results and build predictive models.\n",
        "\n",
        "## How NIPALS Works\n",
        "NIPALS iteratively extracts principal components from the data matrix. Each iteration focuses on finding a new component that explains the maximum variance in the data. The algorithm continues until the desired number of components is extracted or a specified tolerance level is reached.\n",
        "\n",
        "### Steps:\n",
        "1. **Center the Data**: Subtract the mean of each variable from the dataset.\n",
        "2. **Initialize**: Choose an initial estimate for the score vector.\n",
        "3. **Iterate**: \n",
        "    - Calculate the loading vector.\n",
        "    - Normalize the loading vector.\n",
        "    - Update the score vector.\n",
        "    - Check for convergence.\n",
        "4. **Deflate**: Subtract the outer product of the score and loading vectors from the data matrix.\n",
        "5. **Repeat**: Continue until the desired number of components is extracted.\n",
        "\n",
        "## Applications in PLS and PCR\n",
        "NIPALS is a foundational algorithm for more advanced techniques like Partial Least Squares (PLS) and Principal Component Regression (PCR).\n",
        "\n",
        "### Partial Least Squares (PLS)\n",
        "PLS is used to find the relationship between two matrices, typically the predictor and response matrices. NIPALS is employed to extract latent variables that maximize the covariance between these matrices, making PLS a powerful tool for predictive modeling in chemometrics.\n",
        "\n",
        "### Principal Component Regression (PCR)\n",
        "PCR combines principal component analysis (PCA) with regression. NIPALS is used to extract principal components from the predictor matrix, which are then used in a regression model to predict the response variable. This approach helps in dealing with multicollinearity and improving model stability.\n",
        "\n",
        "## Conclusion\n",
        "NIPALS is a crucial algorithm in chemometrics, enabling the analysis of complex, multicollinear datasets. Its application in PLS and PCR further extends its utility, making it an indispensable tool for chemometricians.\n"
      ]
    },
    {
      "cell_type": "code",
      "execution_count": null,
      "metadata": {
        "id": "Yn5-uIQ0cd68"
      },
      "outputs": [],
      "source": [
        "import numpy as np\n",
        "import matplotlib.pyplot as plt\n",
        "from scipy.io import loadmat\n",
        "\n",
        "def nipals(X, n_components=2, tolerance=1e-3):\n",
        "    # Center the data\n",
        "    X_mean = np.mean(X, axis=0)\n",
        "    X_centered = X - X_mean\n",
        "\n",
        "    n_samples, n_features = X_centered.shape\n",
        "\n",
        "    t = np.zeros((n_samples, n_components))\n",
        "    p = np.zeros((n_features, n_components))\n",
        "\n",
        "    for i in range(n_components):\n",
        "        # Initialization\n",
        "        t[:, i] = X_centered[:, 0]  # Choose an initial t\n",
        "\n",
        "        while True:\n",
        "            # Calculate p\n",
        "            p[:, i] = (X_centered.T @ t[:, i]) / (t[:, i].T @ t[:, i])\n",
        "            p[:, i] = p[:, i] / np.linalg.norm(p[:, i])\n",
        "\n",
        "            # Calculate t\n",
        "            t_new = X_centered @ p[:, i]\n",
        "\n",
        "            if np.linalg.norm(t_new - t[:,i]) < tolerance:\n",
        "                break\n",
        "\n",
        "            t[:,i] = t_new\n",
        "\n",
        "        X_centered = X_centered - np.outer(t[:,i], p[:,i].T)\n",
        "\n",
        "    return t, p\n",
        "\n",
        "\n",
        "# Load data from .mat file\n",
        "data = loadmat('/content/DataFish.mat')  # Replace 'your_file.mat' with actual filename\n",
        "X = data['X0'] # Replace 'your_variable' with the variable name in your .mat file\n",
        "\n",
        "\n",
        "# Example usage:\n",
        "\n",
        "t, p = nipals(X, 7, 1e-3)\n",
        "\n"
      ]
    },
    {
      "cell_type": "code",
      "execution_count": 11,
      "metadata": {
        "colab": {
          "base_uri": "https://localhost:8080/"
        },
        "id": "QWDc1SuEcSA5",
        "outputId": "cae967b3-0969-4805-b1b8-025922aad664"
      },
      "outputs": [
        {
          "data": {
            "text/plain": [
              "array([ 757.34144439,  760.40646968,  754.51228919,  755.26560324,\n",
              "        755.73356958,  407.07249032,  367.5095935 ,  404.58030768,\n",
              "        410.42993855,  401.86541564,  263.50709859,  242.4282857 ,\n",
              "        261.59857718,  254.34817696,  230.7510114 , -460.75815958,\n",
              "       -476.80570021, -468.02355881, -500.0843069 , -532.33884463,\n",
              "       -939.46394397, -948.51905608, -951.18065803, -892.78363975,\n",
              "       -857.39240367])"
            ]
          },
          "execution_count": 11,
          "metadata": {},
          "output_type": "execute_result"
        }
      ],
      "source": [
        "# Some functions and formula to check matrices and results\n",
        "# I may want to compare my results with matlab\n",
        "\n",
        "first_column = t[:, 0]\n",
        "first_column\n"
      ]
    },
    {
      "cell_type": "markdown",
      "metadata": {
        "id": "xnCOHjC6diRu"
      },
      "source": [
        "# Notes\n",
        "\n",
        "here is the first column in Matlab (3 first values and last one):  \n",
        "757.341447524204  \n",
        "760.406472122233  \n",
        "754.512291631646  \n",
        "...  \n",
        "-857.392391561138  "
      ]
    },
    {
      "cell_type": "code",
      "execution_count": 18,
      "metadata": {
        "colab": {
          "base_uri": "https://localhost:8080/"
        },
        "id": "_kyxsaZncvSz",
        "outputId": "708e87e8-ccb3-479b-c9f8-6da05d2cf2b7"
      },
      "outputs": [
        {
          "name": "stdout",
          "output_type": "stream",
          "text": [
            "X= (25, 7)\n",
            "t= (25, 7)\n",
            "p= (7, 7)\n"
          ]
        }
      ],
      "source": [
        "# check the sizes\n",
        "print(\"X=\",X.shape)\n",
        "print(\"t=\", t.shape)\n",
        "print(\"p=\", p.shape)"
      ]
    }
  ],
  "metadata": {
    "colab": {
      "provenance": []
    },
    "kernelspec": {
      "display_name": "Python 3",
      "name": "python3"
    },
    "language_info": {
      "name": "python"
    }
  },
  "nbformat": 4,
  "nbformat_minor": 0
}
